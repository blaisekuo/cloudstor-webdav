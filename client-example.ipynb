{
 "cells": [
  {
   "cell_type": "markdown",
   "metadata": {},
   "source": [
    "## Accessing your data on Cloudstor via webdav from a python script\n",
    "\n",
    "- You get 1 TB of storage on Cloudstor as an MQ student\n",
    "- You can request more for group workspace to share among member\n",
    "\n",
    "To access your large pile of data from a python script, use webdav\n",
    "\n",
    "First install the webdavclient library for your python installation.\n",
    "\n",
    "The project page for the library is here, with the examples I use in this notebook:\n",
    "\n",
    "https://pypi.org/project/webdavclient/\n",
    "\n",
    "If you use Anaconda/Jupyter Lab, open an Anaconda prompt, type:\n",
    "\n",
    "pip install webdavclient"
   ]
  },
  {
   "cell_type": "code",
   "execution_count": 38,
   "metadata": {},
   "outputs": [],
   "source": [
    "import webdav.client as wc"
   ]
  },
  {
   "cell_type": "markdown",
   "metadata": {},
   "source": [
    "The webdav url for cloudstor is:\n",
    "\n",
    "https://cloudstor.aarnet.edu.au/plus/remote.php/webdav/\n",
    "\n",
    "Login to the web interface at: \n",
    "\n",
    "https://cloudstor.aarnet.edu.au\n",
    "\n",
    "Click on the settings button on the right top area of the browser and then the security tab on the left and create an app password. Suppy it below.\n",
    "\n",
    "<img src=cloudstor-screenshot.png>"
   ]
  },
  {
   "cell_type": "code",
   "execution_count": 39,
   "metadata": {},
   "outputs": [],
   "source": [
    "options = {\n",
    " 'webdav_hostname': \"https://cloudstor.aarnet.edu.au\",\n",
    " 'webdav_login':    \"blaise-anthony.kuo-tiong@students.mq.edu.au\", #your cloudstor login\n",
    " 'webdav_password': \"DAMCW-UTMIC-EATWE-KNHII\", #put your app password here\n",
    " 'webdav_root': \"/plus/remote.php/webdav\"\n",
    "}\n",
    "client = wc.Client(options)"
   ]
  },
  {
   "cell_type": "markdown",
   "metadata": {},
   "source": [
    "### list files in my cloudstor"
   ]
  },
  {
   "cell_type": "code",
   "execution_count": 31,
   "metadata": {},
   "outputs": [
    {
     "name": "stdout",
     "output_type": "stream",
     "text": [
      "['AOSS2018/', 'AdminStuff/', 'Documents/', 'Library/', 'PhDnotes/', 'Photos/', 'Shared/', 'codestore/', 'datastore/', 'dontsync/', 'toDelete/', 'uploads/']\n"
     ]
    }
   ],
   "source": [
    "files1 = client.list()\n",
    "print(files1)"
   ]
  },
  {
   "cell_type": "markdown",
   "metadata": {},
   "source": [
    "### list a particular directory"
   ]
  },
  {
   "cell_type": "code",
   "execution_count": 32,
   "metadata": {},
   "outputs": [
    {
     "name": "stdout",
     "output_type": "stream",
     "text": [
      "['Test_144319.txt', 'Test_144319_0000.fit', 'Test_144319_0001.fit', 'Test_144319_0002.fit', 'Test_144319_0003.fit', 'Test_144319_0004.fit']\n"
     ]
    }
   ],
   "source": [
    "path = \"datastore/fiber-injection-imaging-27-Nov-2018/271118_144319-infocus/\"\n",
    "files1 = client.list(path)\n",
    "print(files1)"
   ]
  },
  {
   "cell_type": "code",
   "execution_count": 33,
   "metadata": {},
   "outputs": [],
   "source": [
    "file = \"Test_144319_0001.fit\"\n",
    "client.download_sync(remote_path=(path + file), local_path=\"downloads/\" + file)"
   ]
  },
  {
   "cell_type": "markdown",
   "metadata": {},
   "source": [
    "### plot the file we grabbed"
   ]
  },
  {
   "cell_type": "code",
   "execution_count": 34,
   "metadata": {},
   "outputs": [],
   "source": [
    "import numpy as np\n",
    "from astropy.io import fits\n",
    "import matplotlib.pyplot as plt  "
   ]
  },
  {
   "cell_type": "code",
   "execution_count": 35,
   "metadata": {},
   "outputs": [],
   "source": [
    "openfits = fits.open(\"downloads/\" + file)"
   ]
  },
  {
   "cell_type": "code",
   "execution_count": 36,
   "metadata": {},
   "outputs": [
    {
     "name": "stdout",
     "output_type": "stream",
     "text": [
      "[[0 0 0 ... 0 0 0]\n",
      " [0 0 0 ... 0 0 0]\n",
      " [0 0 0 ... 1 0 0]\n",
      " ...\n",
      " [0 0 0 ... 0 0 0]\n",
      " [0 0 0 ... 0 0 0]\n",
      " [0 0 0 ... 0 0 0]]\n"
     ]
    }
   ],
   "source": [
    "print(openfits[0].data)"
   ]
  },
  {
   "cell_type": "code",
   "execution_count": 40,
   "metadata": {},
   "outputs": [
    {
     "data": {
      "text/plain": [
       "<matplotlib.image.AxesImage at 0x28b1900f6d8>"
      ]
     },
     "execution_count": 40,
     "metadata": {},
     "output_type": "execute_result"
    },
    {
     "data": {
      "image/png": "[encoded data removed]",
      "text/plain": [
       "<matplotlib.figure.Figure at 0x28b174173c8>"
      ]
     },
     "metadata": {},
     "output_type": "display_data"
    }
   ],
   "source": [
    "plt.imshow(openfits[0].data)"
   ]
  },
  {
   "cell_type": "code",
   "execution_count": null,
   "metadata": {},
   "outputs": [],
   "source": []
  }
 ],
 "metadata": {
  "kernelspec": {
   "display_name": "Python 3",
   "language": "python",
   "name": "python3"
  },
  "language_info": {
   "codemirror_mode": {
    "name": "ipython",
    "version": 3
   },
   "file_extension": ".py",
   "mimetype": "text/x-python",
   "name": "python",
   "nbconvert_exporter": "python",
   "pygments_lexer": "ipython3",
   "version": "3.6.4"
  }
 },
 "nbformat": 4,
 "nbformat_minor": 2
}
